{
 "cells": [
  {
   "cell_type": "raw",
   "id": "c6475989-0354-42f5-84c6-c5651d02e32d",
   "metadata": {
    "tags": []
   },
   "source": [
    "1. Given an array, check if it contains any duplicates or not.\n",
    "arr = [1, 2, 4, 2, 5, 9]\n",
    "Output = True"
   ]
  },
  {
   "cell_type": "code",
   "execution_count": 27,
   "id": "8eafb9ca-08d4-4928-84dc-5252bc175fbf",
   "metadata": {},
   "outputs": [
    {
     "data": {
      "text/plain": [
       "False"
      ]
     },
     "execution_count": 27,
     "metadata": {},
     "output_type": "execute_result"
    }
   ],
   "source": [
    "arr=[1,2,4,2,5,9]\n",
    "def duplicate(arr1):\n",
    "    arr2=[]\n",
    "    for i in arr1:\n",
    "        \n",
    "        if i not in arr2:\n",
    "            return False\n",
    "        else:\n",
    "            arr2.append(i)\n",
    "            return True\n",
    "    \n",
    "duplicate(arr)"
   ]
  },
  {
   "cell_type": "raw",
   "id": "20a6d859-b946-4a2d-be64-902a9e9f53ea",
   "metadata": {},
   "source": [
    "2. Given an array and an integer k, rotate the array to the right by k steps.\n",
    "arr = [1, 2, 3, 4, 5, 6, 7] k = 3\n",
    "Output = [5, 6, 7, 1, 2, 3, 4]"
   ]
  },
  {
   "cell_type": "code",
   "execution_count": 5,
   "id": "0418e37a-d53c-4ee0-a1b6-959a303eda4a",
   "metadata": {},
   "outputs": [],
   "source": [
    "arr = [1, 2, 3, 4, 5, 6, 7]\n",
    "k=3\n",
    "def shift(arr1,k):\n",
    "    return arr1[k:]+arr1[:k]"
   ]
  },
  {
   "cell_type": "code",
   "execution_count": 6,
   "id": "3e1fc2c5-9995-4bd6-9388-5a0b2e728325",
   "metadata": {},
   "outputs": [
    {
     "data": {
      "text/plain": [
       "[4, 5, 6, 7, 1, 2, 3]"
      ]
     },
     "execution_count": 6,
     "metadata": {},
     "output_type": "execute_result"
    }
   ],
   "source": [
    "shift(arr,3)"
   ]
  },
  {
   "cell_type": "code",
   "execution_count": null,
   "id": "fb141216-6308-4201-ab10-de75d1183ec1",
   "metadata": {},
   "outputs": [],
   "source": []
  },
  {
   "cell_type": "raw",
   "id": "50fce5c8-4df8-4dff-bd72-f42dc30ba51b",
   "metadata": {},
   "source": [
    "3.Reverse the given array in-place, means without using any extra data structure.\n",
    "arr = [2, 4, 5, 7, 9, 12]"
   ]
  },
  {
   "cell_type": "code",
   "execution_count": 7,
   "id": "19213686-fac3-49c3-ab05-13513fbc87b4",
   "metadata": {},
   "outputs": [],
   "source": [
    "arr=[2,4,5,7,9,12]\n",
    "def reverse(arr1):\n",
    "    return arr1[::-1]"
   ]
  },
  {
   "cell_type": "code",
   "execution_count": 8,
   "id": "34d62214-312e-413f-bcf6-a0672990ff10",
   "metadata": {},
   "outputs": [
    {
     "data": {
      "text/plain": [
       "[12, 9, 7, 5, 4, 2]"
      ]
     },
     "execution_count": 8,
     "metadata": {},
     "output_type": "execute_result"
    }
   ],
   "source": [
    "reverse(arr)"
   ]
  },
  {
   "cell_type": "code",
   "execution_count": null,
   "id": "117efb66-cf8e-4e6a-a468-de44c70c5f77",
   "metadata": {},
   "outputs": [],
   "source": []
  },
  {
   "cell_type": "raw",
   "id": "c6e813e4-6865-40ab-b3b3-d76ba6bdade7",
   "metadata": {},
   "source": [
    "4.Given an array of integers, find the maximum element in an array\n",
    "arr = [10, 5, 20, 8, 15]"
   ]
  },
  {
   "cell_type": "code",
   "execution_count": 14,
   "id": "304b4bc7-2f20-401e-9135-e57a2be8d158",
   "metadata": {},
   "outputs": [
    {
     "name": "stdout",
     "output_type": "stream",
     "text": [
      "Maximum Element in Array is : 20\n"
     ]
    }
   ],
   "source": [
    "arr=[10,5,20,8,15]\n",
    "max1=arr[0]\n",
    "for i in range (len(arr)):\n",
    "    if arr[i]>max1:\n",
    "        max1=arr[i]\n",
    "print(\"Maximum Element in Array is :\",max1) \n",
    "            "
   ]
  },
  {
   "cell_type": "code",
   "execution_count": null,
   "id": "1fba3d22-9cd9-42b4-af45-660d1354d53a",
   "metadata": {},
   "outputs": [],
   "source": []
  },
  {
   "cell_type": "raw",
   "id": "9e89073e-b672-468c-b5c0-e3a1542410f6",
   "metadata": {},
   "source": [
    "5.Given a sorted array, remove the duplicate element without using any extra data structure.\n",
    "arr = [1, 1, 2, 2, 2, 3, 3, 4, 4, 4, 5, 5]"
   ]
  },
  {
   "cell_type": "code",
   "execution_count": 17,
   "id": "c4fcefa8-b81e-4375-8177-00ac546bb638",
   "metadata": {},
   "outputs": [
    {
     "data": {
      "text/plain": [
       "5"
      ]
     },
     "execution_count": 17,
     "metadata": {},
     "output_type": "execute_result"
    }
   ],
   "source": [
    "arr = [1, 1, 2, 2, 2, 3, 3, 4, 4, 4, 5, 5]\n",
    "n=len(arr)\n",
    "def removeDuplicates(arr, n):\n",
    "    if n == 0 or n == 1:\n",
    "        return n\n",
    "    j = 0;\n",
    "    for i in range(0, n-1):\n",
    "        if arr[i] != arr[i+1]:\n",
    "            arr[j] = arr[i]\n",
    "            j += 1\n",
    "    arr[j] = arr[n-1]\n",
    "    j += 1\n",
    "    return j\n",
    "\n",
    "removeDuplicates(arr, n)"
   ]
  },
  {
   "cell_type": "code",
   "execution_count": null,
   "id": "255545c3-3f75-480c-a01d-b1b5ba5a594c",
   "metadata": {},
   "outputs": [],
   "source": []
  }
 ],
 "metadata": {
  "kernelspec": {
   "display_name": "Python 3 (ipykernel)",
   "language": "python",
   "name": "python3"
  },
  "language_info": {
   "codemirror_mode": {
    "name": "ipython",
    "version": 3
   },
   "file_extension": ".py",
   "mimetype": "text/x-python",
   "name": "python",
   "nbconvert_exporter": "python",
   "pygments_lexer": "ipython3",
   "version": "3.10.8"
  }
 },
 "nbformat": 4,
 "nbformat_minor": 5
}
